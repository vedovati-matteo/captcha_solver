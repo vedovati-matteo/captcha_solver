{
 "cells": [
  {
   "cell_type": "code",
   "execution_count": 1,
   "metadata": {},
   "outputs": [],
   "source": [
    "from captcha_creation import Captcha"
   ]
  },
  {
   "cell_type": "code",
   "execution_count": 24,
   "metadata": {},
   "outputs": [
    {
     "data": {
      "image/jpeg": "[encoded data removed]",
      "image/png": "[encoded data removed]",
      "text/plain": [
       "<PIL.Image.Image image mode=RGB size=224x80>"
      ]
     },
     "metadata": {},
     "output_type": "display_data"
    },
    {
     "data": {
      "text/plain": [
       "[{'char': '3', 'bb': (35, 19, 67, 61)},\n",
       " {'char': 'G', 'bb': (60, 12, 101, 67)},\n",
       " {'char': 'J', 'bb': (93, 19, 125, 61)},\n",
       " {'char': 'F', 'bb': (140, 13, 181, 67)}]"
      ]
     },
     "execution_count": 24,
     "metadata": {},
     "output_type": "execute_result"
    }
   ],
   "source": [
    "im, bb = Captcha(fonts=['fonts/cour.ttf']).generate_image(\"3GJF\")\n",
    "\n",
    "Captcha().show_image(im, bb)\n",
    "\n",
    "bb"
   ]
  },
  {
   "cell_type": "code",
   "execution_count": null,
   "metadata": {},
   "outputs": [],
   "source": [
    "\n",
    "import os"
   ]
  },
  {
   "cell_type": "code",
   "execution_count": 83,
   "metadata": {},
   "outputs": [],
   "source": [
    "import random\n",
    "import string\n",
    "\n",
    "def generate_random_string(length = None):\n",
    "    \"\"\"Generates a random string of the specified length.\n",
    "\n",
    "    Args:\n",
    "    length: The desired length of the string.\n",
    "\n",
    "    Returns:\n",
    "    A random string of the specified length.\n",
    "    \"\"\"\n",
    "    \n",
    "    charset = \"abcdefghijklmnpqrstuvwxyz123456789ABCDEFGHIJKLMNOPQRSTUVWXYZ\"\n",
    "    \n",
    "    if length is None:\n",
    "        length = random.randint(3, 6)\n",
    "    \n",
    "    return ''.join(random.choice(charset) for i in range(length))"
   ]
  },
  {
   "cell_type": "code",
   "execution_count": null,
   "metadata": {},
   "outputs": [],
   "source": [
    "def create_yolo_dataset(image_generator, output_dir):\n",
    "  \"\"\"\n",
    "  Creates a YOLO dataset from an image generator.\n",
    "\n",
    "  Args:\n",
    "    image_generator: A function that returns an image and its bounding boxes.\n",
    "    output_dir: The directory to save the images and annotations.\n",
    "    class_names: A list of class names.\n",
    "  \"\"\"\n",
    "  \n",
    "  if not os.path.exists(output_dir):\n",
    "    os.makedirs(output_dir)\n",
    "\n",
    "  image_index = 0\n",
    "  for i in range(10):\n",
    "    image, boxes = image_generator()\n",
    "    image_path = os.path.join(output_dir, f\"{image_index}.jpg\")\n",
    "    label_path = os.path.join(output_dir, f\"{image_index}.txt\")\n",
    "\n",
    "    # Save the image\n",
    "    image.save(image_path)\n",
    "\n",
    "    # Write the YOLO annotations\n",
    "    with open(label_path, 'w') as f:\n",
    "      for box in boxes:\n",
    "        class_char = box[\"char\"]\n",
    "        x_min, y_min, x_max, y_max = box[\"bb\"]\n",
    "\n",
    "        # Convert bounding boxes to YOLO format\n",
    "        width, height = image.shape[1], image.shape[0]\n",
    "        x_center = (x_min + x_max) / 2 / width\n",
    "        y_center = (y_min + y_max) / 2 / height\n",
    "        box_width = (x_max - x_min) / width\n",
    "        box_height = (y_max - y_min) / height\n",
    "\n",
    "        line = f\"{class_char} {x_center} {y_center} {box_width} {box_height}\\n\"\n",
    "        f.write(line)\n",
    "\n",
    "    image_index += 1\n",
    "\n",
    "def image_generator():\n",
    "    # generate \n",
    "    return Captcha().generate_image(generate_random_string())"
   ]
  }
 ],
 "metadata": {
  "kernelspec": {
   "display_name": "captcha",
   "language": "python",
   "name": "python3"
  },
  "language_info": {
   "codemirror_mode": {
    "name": "ipython",
    "version": 3
   },
   "file_extension": ".py",
   "mimetype": "text/x-python",
   "name": "python",
   "nbconvert_exporter": "python",
   "pygments_lexer": "ipython3",
   "version": "3.12.4"
  }
 },
 "nbformat": 4,
 "nbformat_minor": 2
}
