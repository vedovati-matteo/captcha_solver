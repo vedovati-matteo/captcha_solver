{
 "cells": [
  {
   "cell_type": "code",
   "execution_count": 4,
   "metadata": {},
   "outputs": [],
   "source": [
    "import torch"
   ]
  },
  {
   "cell_type": "code",
   "execution_count": 2,
   "metadata": {},
   "outputs": [],
   "source": [
    "from character_detection import RPN, inference_simple, show_image"
   ]
  },
  {
   "cell_type": "code",
   "execution_count": 5,
   "metadata": {},
   "outputs": [],
   "source": [
    "device = torch.device(\"cuda\" if torch.cuda.is_available() else \"cpu\")"
   ]
  },
  {
   "cell_type": "code",
   "execution_count": 4,
   "metadata": {},
   "outputs": [
    {
     "name": "stderr",
     "output_type": "stream",
     "text": [
      "/tmp/ipykernel_44576/3334811256.py:2: FutureWarning: You are using `torch.load` with `weights_only=False` (the current default value), which uses the default pickle module implicitly. It is possible to construct malicious pickle data which will execute arbitrary code during unpickling (See https://github.com/pytorch/pytorch/blob/main/SECURITY.md#untrusted-models for more details). In a future release, the default value for `weights_only` will be flipped to `True`. This limits the functions that could be executed during unpickling. Arbitrary objects will no longer be allowed to be loaded via this mode unless they are explicitly allowlisted by the user via `torch.serialization.add_safe_globals`. We recommend you start setting `weights_only=True` for any use case where you don't have full control of the loaded file. Please open an issue on GitHub for any issues related to this experimental feature.\n",
      "  checkpoint = torch.load('character_detection/models/checkpoints_v5/model_epoch_40.pth')\n"
     ]
    },
    {
     "data": {
      "text/plain": [
       "<All keys matched successfully>"
      ]
     },
     "execution_count": 4,
     "metadata": {},
     "output_type": "execute_result"
    }
   ],
   "source": [
    "model_detection = RPN(dropout_rate=0.4, device=device).to(device)\n",
    "checkpoint = torch.load('character_detection/models/checkpoints_v5/model_epoch_40.pth')\n",
    "model_detection.load_state_dict(checkpoint['model_state_dict'])"
   ]
  },
  {
   "cell_type": "code",
   "execution_count": 5,
   "metadata": {},
   "outputs": [],
   "source": [
    "image_path = 'datasets/dataset_v5/98.jpg'"
   ]
  },
  {
   "cell_type": "code",
   "execution_count": 6,
   "metadata": {},
   "outputs": [
    {
     "name": "stdout",
     "output_type": "stream",
     "text": [
      "Raw proposals shape: torch.Size([1, 980, 4])\n",
      "Objectness logits shape: torch.Size([1, 980, 2])\n",
      "Max objectness score: 38.42792510986328\n",
      "Min objectness score: -33.47733688354492\n",
      "After softmax, max score: 0.9999992847442627\n",
      "Number of proposals after confidence thresholding: 343\n",
      "Filtered boxes shape: torch.Size([343, 4])\n",
      "Filtered scores shape: torch.Size([343])\n",
      "Number of boxes after NMS: 6\n"
     ]
    },
    {
     "name": "stderr",
     "output_type": "stream",
     "text": [
      "/home/vedo/miniconda3/envs/captcha/lib/python3.12/site-packages/torch/functional.py:513: UserWarning: torch.meshgrid: in an upcoming release, it will be required to pass the indexing argument. (Triggered internally at ../aten/src/ATen/native/TensorShape.cpp:3609.)\n",
      "  return _VF.meshgrid(tensors, **kwargs)  # type: ignore[attr-defined]\n"
     ]
    }
   ],
   "source": [
    "boxes, scores = inference_simple(model_detection, image_path, device)"
   ]
  },
  {
   "cell_type": "code",
   "execution_count": 7,
   "metadata": {},
   "outputs": [
    {
     "data": {
      "image/jpeg": "[encoded data removed]",
      "image/png": "[encoded data removed]",
      "text/plain": [
       "<PIL.Image.Image image mode=RGB size=224x224>"
      ]
     },
     "metadata": {},
     "output_type": "display_data"
    }
   ],
   "source": [
    "target = boxes.tolist()\n",
    "show_image(image_path, target)"
   ]
  },
  {
   "cell_type": "code",
   "execution_count": 8,
   "metadata": {},
   "outputs": [
    {
     "data": {
      "text/plain": [
       "[[113.59246826171875,\n",
       "  89.59864044189453,\n",
       "  147.92080688476562,\n",
       "  135.9779052734375],\n",
       " [160.76536560058594,\n",
       "  84.85397338867188,\n",
       "  201.14320373535156,\n",
       "  140.4246368408203],\n",
       " [80.91911315917969,\n",
       "  86.32781219482422,\n",
       "  119.13194274902344,\n",
       "  138.05697631835938],\n",
       " [50.383880615234375, 85.55271911621094, 89.24508666992188, 137.640869140625],\n",
       " [24.29803466796875, 87.38428497314453, 61.33882141113281, 136.07997131347656]]"
      ]
     },
     "execution_count": 8,
     "metadata": {},
     "output_type": "execute_result"
    }
   ],
   "source": [
    "target"
   ]
  },
  {
   "cell_type": "code",
   "execution_count": 1,
   "metadata": {},
   "outputs": [],
   "source": [
    "from character_recognition import CaptchaCharClassifier"
   ]
  },
  {
   "cell_type": "code",
   "execution_count": 8,
   "metadata": {},
   "outputs": [
    {
     "name": "stderr",
     "output_type": "stream",
     "text": [
      "/tmp/ipykernel_52287/3994308567.py:2: FutureWarning: You are using `torch.load` with `weights_only=False` (the current default value), which uses the default pickle module implicitly. It is possible to construct malicious pickle data which will execute arbitrary code during unpickling (See https://github.com/pytorch/pytorch/blob/main/SECURITY.md#untrusted-models for more details). In a future release, the default value for `weights_only` will be flipped to `True`. This limits the functions that could be executed during unpickling. Arbitrary objects will no longer be allowed to be loaded via this mode unless they are explicitly allowlisted by the user via `torch.serialization.add_safe_globals`. We recommend you start setting `weights_only=True` for any use case where you don't have full control of the loaded file. Please open an issue on GitHub for any issues related to this experimental feature.\n",
      "  checkpoint = torch.load('character_recognition/models/checkpoints_v5/model_epoch_40.pth')\n"
     ]
    },
    {
     "data": {
      "text/plain": [
       "<All keys matched successfully>"
      ]
     },
     "execution_count": 8,
     "metadata": {},
     "output_type": "execute_result"
    }
   ],
   "source": [
    "model_recognition = CaptchaCharClassifier(dropout_rate=0.4, device=device).to(device)\n",
    "checkpoint = torch.load('character_recognition/models/checkpoints_v5/model_epoch_40.pth')\n",
    "model_recognition.load_state_dict(checkpoint['model_state_dict'])"
   ]
  },
  {
   "cell_type": "code",
   "execution_count": 9,
   "metadata": {},
   "outputs": [],
   "source": [
    "bb_path = 'datasets/dataset_v5/98.txt'\n",
    "bbs = []\n",
    "c_s = []\n",
    "with open(bb_path, 'r') as f:\n",
    "    for line in f.readlines():\n",
    "        data = line.strip().split(' ')\n",
    "        class_char = data[0] # not used\n",
    "        x_min, y_min, x_max, y_max = float(data[1]), float(data[2]), float(data[3]), float(data[4])\n",
    "        c_s.append(class_char)\n",
    "        bbs.append((x_min, y_min, x_max, y_max))"
   ]
  },
  {
   "cell_type": "code",
   "execution_count": 10,
   "metadata": {},
   "outputs": [
    {
     "data": {
      "text/plain": [
       "[(24.0, 15.0, 61.0, 65.0),\n",
       " (50.0, 15.0, 87.0, 64.0),\n",
       " (80.0, 13.0, 121.0, 67.0),\n",
       " (114.0, 19.0, 146.0, 61.0),\n",
       " (160.0, 12.0, 201.0, 67.0)]"
      ]
     },
     "execution_count": 10,
     "metadata": {},
     "output_type": "execute_result"
    }
   ],
   "source": [
    "bbs"
   ]
  }
 ],
 "metadata": {
  "kernelspec": {
   "display_name": "captcha",
   "language": "python",
   "name": "python3"
  },
  "language_info": {
   "codemirror_mode": {
    "name": "ipython",
    "version": 3
   },
   "file_extension": ".py",
   "mimetype": "text/x-python",
   "name": "python",
   "nbconvert_exporter": "python",
   "pygments_lexer": "ipython3",
   "version": "3.12.4"
  }
 },
 "nbformat": 4,
 "nbformat_minor": 2
}
